{
 "cells": [
  {
   "cell_type": "markdown",
   "metadata": {},
   "source": [
    "# Nanodegree Data Scientist\n",
    "# Big Data\n",
    "## Projeto III: Analisando dados do metrô de NY\n",
    "\n",
    "### Requisitos\n",
    "\n",
    "Este projeto requer **Python 3.0** e as seguintes bibliotecas Python instaladas:\n",
    "\n",
    "- [NumPy](http://www.numpy.org/)\n",
    "- [Pandas](http://pandas.pydata.org/)\n",
    "- [Matplotlib](http://matplotlib.org/)\n",
    "- [Urllib](https://docs.python.org/3/library/urllib.html)\n",
    "\n",
    "O notebook pode ser encontrado [aqui](https://github.com/lfgranellosouza/udacity/blob/master/nyc_subway_data_analysis/analyzing-subway-data-ver_final.ipynb) e a download em HTML [aqui](https://github.com/lfgranellosouza/udacity/blob/master/nyc_subway_data_analysis/analyzing-subway-data-ver_final.html)\n",
    "\n",
    "Os arquivos contendo o mapeador e redutor podem ser encontrados neste mesmo diretório.\n",
    "\n",
    "### Referências:\n",
    "- Stack Overflow:\n",
    "   - [Python -  When I catch an exception, how do I get the type, file, and line number?](https://stackoverflow.com/questions/1278705/python-when-i-catch-an-exception-how-do-i-get-the-type-file-and-line-number)\n",
    "   - [Python - Why can't I do a loop in sys.stdin two times in a row?](https://stackoverflow.com/questions/36288846/why-cant-i-do-a-loop-in-sys-stdin-two-times-in-a-row-python)\n"
   ]
  },
  {
   "cell_type": "code",
   "execution_count": null,
   "metadata": {},
   "outputs": [],
   "source": []
  }
 ],
 "metadata": {
  "kernelspec": {
   "display_name": "Python 3",
   "language": "python",
   "name": "python3"
  },
  "language_info": {
   "codemirror_mode": {
    "name": "ipython",
    "version": 3
   },
   "file_extension": ".py",
   "mimetype": "text/x-python",
   "name": "python",
   "nbconvert_exporter": "python",
   "pygments_lexer": "ipython3",
   "version": "3.6.5"
  }
 },
 "nbformat": 4,
 "nbformat_minor": 2
}
